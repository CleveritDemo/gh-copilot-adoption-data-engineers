{
 "cells": [
  {
   "cell_type": "markdown",
   "metadata": {},
   "source": [
    "# PySpark Environment"
   ]
  },
  {
   "cell_type": "code",
   "execution_count": 1,
   "metadata": {},
   "outputs": [],
   "source": [
    "# Set the pyspark environment\n",
    "# Use the conda environment in this path: /Users/rmontecino/anaconda3/envs/pyspark-env\n",
    "import os\n",
    "os.environ['SPARK_HOME'] = '/Users/rmontecino/anaconda3/envs/pyspark-env/lib/python3.12/site-packages/pyspark'\n",
    "os.environ['PYSPARK_DRIVER_PYTHON'] = 'jupyter'\n",
    "os.environ['PYSPARK_DRIVER_PYTHON_OPTS'] = 'notebook'\n",
    "os.environ['PYSPARK_PYTHON'] = 'python3'"
   ]
  },
  {
   "cell_type": "code",
   "execution_count": 2,
   "metadata": {},
   "outputs": [],
   "source": [
    "# Import PySpark and initialize SparkSession\n",
    "from pyspark.sql import SparkSession"
   ]
  },
  {
   "cell_type": "code",
   "execution_count": 3,
   "metadata": {},
   "outputs": [
    {
     "name": "stderr",
     "output_type": "stream",
     "text": [
      "24/08/07 21:21:58 WARN Utils: Your hostname, Ricardos-MacBook-Pro-CleverIT.local resolves to a loopback address: 127.0.0.1; using 192.168.1.86 instead (on interface en0)\n",
      "24/08/07 21:21:58 WARN Utils: Set SPARK_LOCAL_IP if you need to bind to another address\n",
      "Setting default log level to \"WARN\".\n",
      "To adjust logging level use sc.setLogLevel(newLevel). For SparkR, use setLogLevel(newLevel).\n",
      "24/08/07 21:21:59 WARN NativeCodeLoader: Unable to load native-hadoop library for your platform... using builtin-java classes where applicable\n"
     ]
    }
   ],
   "source": [
    "# Create a SparkSession\n",
    "spark = SparkSession.builder.appName('SparkSQL').getOrCreate()"
   ]
  },
  {
   "cell_type": "markdown",
   "metadata": {},
   "source": [
    "# Read CSV file into DataFrame"
   ]
  },
  {
   "cell_type": "markdown",
   "metadata": {},
   "source": [
    "## Read CSV with header"
   ]
  },
  {
   "cell_type": "code",
   "execution_count": 4,
   "metadata": {},
   "outputs": [
    {
     "name": "stdout",
     "output_type": "stream",
     "text": [
      "root\n",
      " |-- id: integer (nullable = true)\n",
      " |-- name: string (nullable = true)\n",
      " |-- category: string (nullable = true)\n",
      " |-- quantity: integer (nullable = true)\n",
      " |-- price: double (nullable = true)\n",
      "\n",
      "+---+--------------------+---------------+--------+------+\n",
      "| id|                name|       category|quantity| price|\n",
      "+---+--------------------+---------------+--------+------+\n",
      "|  1|           iPhone 12|    Electronics|      10|899.99|\n",
      "|  2|     Nike Air Max 90|       Clothing|      25|119.99|\n",
      "|  3|KitchenAid Stand ...|Home Appliances|       5|299.99|\n",
      "|  4|    The Great Gatsby|          Books|      50| 12.99|\n",
      "|  5|L'Oreal Paris Mas...|         Beauty|     100|  9.99|\n",
      "|  6|            Yoga Mat|         Sports|      30| 29.99|\n",
      "|  7| Samsung 4K Smart TV|    Electronics|       8|799.99|\n",
      "|  8|        Levi's Jeans|       Clothing|      15| 49.99|\n",
      "|  9|Dyson Vacuum Cleaner|Home Appliances|       3|399.99|\n",
      "| 10| Harry Potter Series|          Books|      20| 15.99|\n",
      "| 11|        MAC Lipstick|         Beauty|      75| 16.99|\n",
      "| 12|Adidas Running Shoes|         Sports|      22| 59.99|\n",
      "| 13|       PlayStation 5|    Electronics|      12|499.99|\n",
      "| 14|   Hooded Sweatshirt|       Clothing|      10| 34.99|\n",
      "| 15|        Coffee Maker|Home Appliances|       7| 89.99|\n",
      "| 16|To Kill a Mocking...|          Books|      15|  9.99|\n",
      "| 17|        Skincare Set|         Beauty|      50| 49.99|\n",
      "| 18|           Yoga Ball|         Sports|      18| 19.99|\n",
      "| 19|Sony Noise-Cancel...|    Electronics|       6|299.99|\n",
      "| 20|        Puma T-shirt|       Clothing|      40| 19.99|\n",
      "+---+--------------------+---------------+--------+------+\n",
      "\n"
     ]
    }
   ],
   "source": [
    "# Read CSV file into DataFrame\n",
    "# Use ../data/products.csv file with header\n",
    "csv_file = '../data/products.csv'\n",
    "df = spark.read.csv(csv_file, header=True, inferSchema=True)\n",
    "\n",
    "# Show the DataFrame schema\n",
    "df.printSchema()\n",
    "\n",
    "# Show the first 20 rows\n",
    "df.show()"
   ]
  },
  {
   "cell_type": "markdown",
   "metadata": {},
   "source": [
    "## Read CSV with an explicit schema definition"
   ]
  },
  {
   "cell_type": "code",
   "execution_count": 5,
   "metadata": {},
   "outputs": [
    {
     "name": "stdout",
     "output_type": "stream",
     "text": [
      "root\n",
      " |-- product_id: integer (nullable = true)\n",
      " |-- product_name: string (nullable = true)\n",
      " |-- product_category_id: integer (nullable = true)\n",
      " |-- product_description: string (nullable = true)\n",
      " |-- product_price: float (nullable = true)\n",
      "\n",
      "+----------+--------------------+-------------------+-------------------+-------------+\n",
      "|product_id|        product_name|product_category_id|product_description|product_price|\n",
      "+----------+--------------------+-------------------+-------------------+-------------+\n",
      "|         1|           iPhone 12|               null|                 10|       899.99|\n",
      "|         2|     Nike Air Max 90|               null|                 25|       119.99|\n",
      "|         3|KitchenAid Stand ...|               null|                  5|       299.99|\n",
      "|         4|    The Great Gatsby|               null|                 50|        12.99|\n",
      "|         5|L'Oreal Paris Mas...|               null|                100|         9.99|\n",
      "|         6|            Yoga Mat|               null|                 30|        29.99|\n",
      "|         7| Samsung 4K Smart TV|               null|                  8|       799.99|\n",
      "|         8|        Levi's Jeans|               null|                 15|        49.99|\n",
      "|         9|Dyson Vacuum Cleaner|               null|                  3|       399.99|\n",
      "|        10| Harry Potter Series|               null|                 20|        15.99|\n",
      "|        11|        MAC Lipstick|               null|                 75|        16.99|\n",
      "|        12|Adidas Running Shoes|               null|                 22|        59.99|\n",
      "|        13|       PlayStation 5|               null|                 12|       499.99|\n",
      "|        14|   Hooded Sweatshirt|               null|                 10|        34.99|\n",
      "|        15|        Coffee Maker|               null|                  7|        89.99|\n",
      "|        16|To Kill a Mocking...|               null|                 15|         9.99|\n",
      "|        17|        Skincare Set|               null|                 50|        49.99|\n",
      "|        18|           Yoga Ball|               null|                 18|        19.99|\n",
      "|        19|Sony Noise-Cancel...|               null|                  6|       299.99|\n",
      "|        20|        Puma T-shirt|               null|                 40|        19.99|\n",
      "+----------+--------------------+-------------------+-------------------+-------------+\n",
      "\n"
     ]
    },
    {
     "name": "stderr",
     "output_type": "stream",
     "text": [
      "24/08/07 21:22:06 WARN CSVHeaderChecker: CSV header does not conform to the schema.\n",
      " Header: id, name, category, quantity, price\n",
      " Schema: product_id, product_name, product_category_id, product_description, product_price\n",
      "Expected: product_id but found: id\n",
      "CSV file: file:///Users/rmontecino/Documents/clever-it/gh-adoption/gh-copilot-adoption-data-engineers/data/products.csv\n"
     ]
    }
   ],
   "source": [
    "# Import the necessary types\n",
    "from pyspark.sql.types import StructType, StructField, IntegerType, StringType, FloatType\n",
    "\n",
    "# Define a new schema\n",
    "schema = StructType([\n",
    "    StructField('product_id', IntegerType(), False),\n",
    "    StructField('product_name', StringType(), False),\n",
    "    StructField('product_category_id', IntegerType(), False),\n",
    "    StructField('product_description', StringType(), True),\n",
    "    StructField('product_price', FloatType(), False)\n",
    "])\n",
    "\n",
    "# Load the data with the new schema\n",
    "df = spark.read.csv(csv_file, header=True, schema=schema)\n",
    "\n",
    "# Show the DataFrame schema\n",
    "df.printSchema()\n",
    "\n",
    "# Show the first 20 rows\n",
    "df.show()"
   ]
  },
  {
   "cell_type": "markdown",
   "metadata": {},
   "source": [
    "# Read JSON file into DataFrame"
   ]
  },
  {
   "cell_type": "markdown",
   "metadata": {},
   "source": [
    "## Single line JSON"
   ]
  },
  {
   "cell_type": "code",
   "execution_count": 6,
   "metadata": {},
   "outputs": [
    {
     "name": "stdout",
     "output_type": "stream",
     "text": [
      "root\n",
      " |-- category: string (nullable = true)\n",
      " |-- id: long (nullable = true)\n",
      " |-- name: string (nullable = true)\n",
      " |-- price: double (nullable = true)\n",
      " |-- quantity: long (nullable = true)\n",
      "\n",
      "+---------------+---+--------------------+------+--------+\n",
      "|       category| id|                name| price|quantity|\n",
      "+---------------+---+--------------------+------+--------+\n",
      "|    Electronics|  1|           iPhone 12|899.99|      10|\n",
      "|       Clothing|  2|     Nike Air Max 90|119.99|      25|\n",
      "|Home Appliances|  3|KitchenAid Stand ...|299.99|       5|\n",
      "|          Books|  4|    The Great Gatsby| 12.99|      50|\n",
      "|         Beauty|  5|L'Oreal Paris Mas...|  9.99|     100|\n",
      "|         Sports|  6|            Yoga Mat| 29.99|      30|\n",
      "|    Electronics|  7| Samsung 4K Smart TV|799.99|       8|\n",
      "|       Clothing|  8|        Levi's Jeans| 49.99|      15|\n",
      "|Home Appliances|  9|Dyson Vacuum Cleaner|399.99|       3|\n",
      "|          Books| 10| Harry Potter Series| 15.99|      20|\n",
      "|         Beauty| 11|        MAC Lipstick| 16.99|      75|\n",
      "|         Sports| 12|Adidas Running Shoes| 59.99|      22|\n",
      "|    Electronics| 13|       PlayStation 5|499.99|      12|\n",
      "|       Clothing| 14|   Hooded Sweatshirt| 34.99|      10|\n",
      "|Home Appliances| 15|        Coffee Maker| 89.99|       7|\n",
      "|          Books| 16|To Kill a Mocking...|  9.99|      15|\n",
      "|         Beauty| 17|        Skincare Set| 49.99|      50|\n",
      "|         Sports| 18|           Yoga Ball| 19.99|      18|\n",
      "|    Electronics| 19|Sony Noise-Cancel...|299.99|       6|\n",
      "|       Clothing| 20|        Puma T-shirt| 19.99|      40|\n",
      "+---------------+---+--------------------+------+--------+\n",
      "\n"
     ]
    }
   ],
   "source": [
    "# Read single line JSON\n",
    "# Each row is a JSON record, records are separated by new line\n",
    "json_file = '../data/products_singleline.json'\n",
    "df = spark.read.json(json_file)\n",
    "\n",
    "# Show the DataFrame schema\n",
    "df.printSchema()\n",
    "\n",
    "# Show the first 20 rows\n",
    "df.show()"
   ]
  },
  {
   "cell_type": "markdown",
   "metadata": {},
   "source": [
    "## Multi-lines JSON"
   ]
  },
  {
   "cell_type": "code",
   "execution_count": 7,
   "metadata": {},
   "outputs": [
    {
     "name": "stdout",
     "output_type": "stream",
     "text": [
      "root\n",
      " |-- category: string (nullable = true)\n",
      " |-- id: long (nullable = true)\n",
      " |-- name: string (nullable = true)\n",
      " |-- price: double (nullable = true)\n",
      " |-- quantity: long (nullable = true)\n",
      "\n",
      "+---------------+---+--------------------+------+--------+\n",
      "|       category| id|                name| price|quantity|\n",
      "+---------------+---+--------------------+------+--------+\n",
      "|    Electronics|  1|           iPhone 12|899.99|      10|\n",
      "|       Clothing|  2|     Nike Air Max 90|119.99|      25|\n",
      "|Home Appliances|  3|KitchenAid Stand ...|299.99|       5|\n",
      "|          Books|  4|    The Great Gatsby| 12.99|      50|\n",
      "|         Beauty|  5|L'Oreal Paris Mas...|  9.99|     100|\n",
      "|         Sports|  6|            Yoga Mat| 29.99|      30|\n",
      "|    Electronics|  7| Samsung 4K Smart TV|799.99|       8|\n",
      "|       Clothing|  8|        Levi's Jeans| 49.99|      15|\n",
      "|Home Appliances|  9|Dyson Vacuum Cleaner|399.99|       3|\n",
      "|          Books| 10| Harry Potter Series| 15.99|      20|\n",
      "|         Beauty| 11|        MAC Lipstick| 16.99|      75|\n",
      "|         Sports| 12|Adidas Running Shoes| 59.99|      22|\n",
      "|    Electronics| 13|       PlayStation 5|499.99|      12|\n",
      "|       Clothing| 14|   Hooded Sweatshirt| 34.99|      10|\n",
      "|Home Appliances| 15|        Coffee Maker| 89.99|       7|\n",
      "|          Books| 16|To Kill a Mocking...|  9.99|      15|\n",
      "|         Beauty| 17|        Skincare Set| 49.99|      50|\n",
      "|         Sports| 18|           Yoga Ball| 19.99|      18|\n",
      "|    Electronics| 19|Sony Noise-Cancel...|299.99|       6|\n",
      "|       Clothing| 20|        Puma T-shirt| 19.99|      40|\n",
      "+---------------+---+--------------------+------+--------+\n",
      "\n"
     ]
    }
   ],
   "source": [
    "# Read multi-line JSON\n",
    "# Use spark json method to read multi-line JSON with multiline option\n",
    "json_file = '../data/products_multiline.json'\n",
    "df = spark.read.json(json_file, multiLine=True)\n",
    "\n",
    "# Show the DataFrame schema\n",
    "df.printSchema()\n",
    "\n",
    "# Show the first 20 rows\n",
    "df.show()"
   ]
  },
  {
   "cell_type": "markdown",
   "metadata": {},
   "source": [
    "# DataFrame Operations"
   ]
  },
  {
   "cell_type": "markdown",
   "metadata": {},
   "source": [
    "## Loading the syntethic data into DataFrame"
   ]
  },
  {
   "cell_type": "code",
   "execution_count": 8,
   "metadata": {},
   "outputs": [
    {
     "name": "stdout",
     "output_type": "stream",
     "text": [
      "root\n",
      " |-- id: integer (nullable = true)\n",
      " |-- name: string (nullable = true)\n",
      " |-- category: string (nullable = true)\n",
      " |-- quantity: integer (nullable = true)\n",
      " |-- price: double (nullable = true)\n",
      "\n",
      "+---+----------------+-----------+--------+-------+\n",
      "| id|            name|   category|quantity|  price|\n",
      "+---+----------------+-----------+--------+-------+\n",
      "|  1|          iPhone|Electronics|      10| 899.99|\n",
      "|  2|         Macbook|Electronics|       5|1299.99|\n",
      "|  3|            iPad|Electronics|      15| 499.99|\n",
      "|  4|      Samsung TV|Electronics|       8| 799.99|\n",
      "|  5|           LG TV|Electronics|      10| 699.99|\n",
      "|  6|      Nike Shoes|   Clothing|      30|  99.99|\n",
      "|  7|    Adidas Shoes|   Clothing|      25|  89.99|\n",
      "|  8| Sony Headphones|Electronics|      12| 149.99|\n",
      "|  9|Beats Headphones|Electronics|      20| 199.99|\n",
      "| 10|    Dining Table|  Furniture|      10| 249.99|\n",
      "| 11|      Study Desk|  Furniture|       8| 149.99|\n",
      "| 12|          Apples|       Food|     100|    0.5|\n",
      "| 13|         Bananas|       Food|     150|   0.25|\n",
      "| 14|         Oranges|       Food|     120|   0.75|\n",
      "| 15|  Chicken Breast|       Food|      50|   3.99|\n",
      "| 16|   Salmon Fillet|       Food|      30|   5.99|\n",
      "| 17|  Leather Jacket|   Clothing|      15| 199.99|\n",
      "| 18|     Winter Coat|   Clothing|      10| 149.99|\n",
      "| 19|        Yoga Mat|     Sports|      20|  19.99|\n",
      "| 20|    Dumbbell Set|     Sports|      15|  49.99|\n",
      "+---+----------------+-----------+--------+-------+\n",
      "only showing top 20 rows\n",
      "\n"
     ]
    }
   ],
   "source": [
    "# Load the synthetic data into a DataFrame\n",
    "# Read with spark csv method\n",
    "synthetic_file = '../data/stocks.txt'\n",
    "df = spark.read.csv(synthetic_file, header=True, inferSchema=True)\n",
    "\n",
    "# Show the DataFrame schema\n",
    "df.printSchema()\n",
    "\n",
    "# Show the first 20 rows\n",
    "df.show()"
   ]
  },
  {
   "cell_type": "markdown",
   "metadata": {},
   "source": [
    "## Select: Choose specific columns"
   ]
  },
  {
   "cell_type": "code",
   "execution_count": 9,
   "metadata": {},
   "outputs": [
    {
     "name": "stdout",
     "output_type": "stream",
     "text": [
      "+----------------+-----------+-------+\n",
      "|            name|   category|  price|\n",
      "+----------------+-----------+-------+\n",
      "|          iPhone|Electronics| 899.99|\n",
      "|         Macbook|Electronics|1299.99|\n",
      "|            iPad|Electronics| 499.99|\n",
      "|      Samsung TV|Electronics| 799.99|\n",
      "|           LG TV|Electronics| 699.99|\n",
      "|      Nike Shoes|   Clothing|  99.99|\n",
      "|    Adidas Shoes|   Clothing|  89.99|\n",
      "| Sony Headphones|Electronics| 149.99|\n",
      "|Beats Headphones|Electronics| 199.99|\n",
      "|    Dining Table|  Furniture| 249.99|\n",
      "|      Study Desk|  Furniture| 149.99|\n",
      "|          Apples|       Food|    0.5|\n",
      "|         Bananas|       Food|   0.25|\n",
      "|         Oranges|       Food|   0.75|\n",
      "|  Chicken Breast|       Food|   3.99|\n",
      "|   Salmon Fillet|       Food|   5.99|\n",
      "|  Leather Jacket|   Clothing| 199.99|\n",
      "|     Winter Coat|   Clothing| 149.99|\n",
      "|        Yoga Mat|     Sports|  19.99|\n",
      "|    Dumbbell Set|     Sports|  49.99|\n",
      "+----------------+-----------+-------+\n",
      "only showing top 20 rows\n",
      "\n"
     ]
    }
   ],
   "source": [
    "# Select specific columns from the DataFrame: name, category, and price\n",
    "df.select('name', 'category', 'price').show()"
   ]
  },
  {
   "cell_type": "markdown",
   "metadata": {},
   "source": [
    "## Filter: Apply conditions to filter rows"
   ]
  },
  {
   "cell_type": "code",
   "execution_count": 10,
   "metadata": {},
   "outputs": [
    {
     "name": "stdout",
     "output_type": "stream",
     "text": [
      "+---+----------------+-----------+--------+-------+\n",
      "| id|            name|   category|quantity|  price|\n",
      "+---+----------------+-----------+--------+-------+\n",
      "|  1|          iPhone|Electronics|      10| 899.99|\n",
      "|  2|         Macbook|Electronics|       5|1299.99|\n",
      "|  3|            iPad|Electronics|      15| 499.99|\n",
      "|  4|      Samsung TV|Electronics|       8| 799.99|\n",
      "|  5|           LG TV|Electronics|      10| 699.99|\n",
      "|  8| Sony Headphones|Electronics|      12| 149.99|\n",
      "|  9|Beats Headphones|Electronics|      20| 199.99|\n",
      "| 10|    Dining Table|  Furniture|      10| 249.99|\n",
      "| 11|      Study Desk|  Furniture|       8| 149.99|\n",
      "| 17|  Leather Jacket|   Clothing|      15| 199.99|\n",
      "| 18|     Winter Coat|   Clothing|      10| 149.99|\n",
      "| 21|    Coffee Table|  Furniture|       5| 129.99|\n",
      "| 26|          Camera|Electronics|      10| 599.99|\n",
      "| 27|         Printer|Electronics|       8| 129.99|\n",
      "+---+----------------+-----------+--------+-------+\n",
      "\n"
     ]
    }
   ],
   "source": [
    "# Filter rows based on a condition using filter method\n",
    "df.filter(df['price'] > 100).show()"
   ]
  },
  {
   "cell_type": "markdown",
   "metadata": {},
   "source": [
    "## GroupBy: Group data based on specific columns"
   ]
  },
  {
   "cell_type": "code",
   "execution_count": 11,
   "metadata": {},
   "outputs": [
    {
     "name": "stdout",
     "output_type": "stream",
     "text": [
      "+-----------+-----+\n",
      "|   category|count|\n",
      "+-----------+-----+\n",
      "|       Food|    5|\n",
      "|     Sports|    2|\n",
      "|Electronics|    9|\n",
      "|   Clothing|    7|\n",
      "|  Furniture|    5|\n",
      "|Accessories|    2|\n",
      "+-----------+-----+\n",
      "\n",
      "+-----------+------------------+\n",
      "|   category|        avg(price)|\n",
      "+-----------+------------------+\n",
      "|       Food|2.2960000000000003|\n",
      "|     Sports|             34.99|\n",
      "|Electronics| 586.6566666666665|\n",
      "|   Clothing|  99.2757142857143|\n",
      "|  Furniture|            141.99|\n",
      "|Accessories|             27.49|\n",
      "+-----------+------------------+\n",
      "\n"
     ]
    }
   ],
   "source": [
    "# Group by category and count the number of products in each category\n",
    "df.groupBy('category').count().show()\n",
    "\n",
    "# Add aggregation like sum, avg, max, min, etc.\n",
    "df.groupBy('category').agg({'price': 'avg'}).show()"
   ]
  },
  {
   "cell_type": "markdown",
   "metadata": {},
   "source": [
    "## Join: Combine multiple DataFrames based on specified columns"
   ]
  },
  {
   "cell_type": "code",
   "execution_count": 12,
   "metadata": {},
   "outputs": [
    {
     "name": "stdout",
     "output_type": "stream",
     "text": [
      "+-----------+---+-------+--------+-------+---+----------------+--------+-------+\n",
      "|   category| id|   name|quantity|  price| id|            name|quantity|  price|\n",
      "+-----------+---+-------+--------+-------+---+----------------+--------+-------+\n",
      "|Electronics|  1| iPhone|      10| 899.99| 27|         Printer|       8| 129.99|\n",
      "|Electronics|  1| iPhone|      10| 899.99| 26|          Camera|      10| 599.99|\n",
      "|Electronics|  1| iPhone|      10| 899.99|  9|Beats Headphones|      20| 199.99|\n",
      "|Electronics|  1| iPhone|      10| 899.99|  8| Sony Headphones|      12| 149.99|\n",
      "|Electronics|  1| iPhone|      10| 899.99|  5|           LG TV|      10| 699.99|\n",
      "|Electronics|  1| iPhone|      10| 899.99|  4|      Samsung TV|       8| 799.99|\n",
      "|Electronics|  1| iPhone|      10| 899.99|  3|            iPad|      15| 499.99|\n",
      "|Electronics|  1| iPhone|      10| 899.99|  2|         Macbook|       5|1299.99|\n",
      "|Electronics|  1| iPhone|      10| 899.99|  1|          iPhone|      10| 899.99|\n",
      "|Electronics|  2|Macbook|       5|1299.99| 27|         Printer|       8| 129.99|\n",
      "|Electronics|  2|Macbook|       5|1299.99| 26|          Camera|      10| 599.99|\n",
      "|Electronics|  2|Macbook|       5|1299.99|  9|Beats Headphones|      20| 199.99|\n",
      "|Electronics|  2|Macbook|       5|1299.99|  8| Sony Headphones|      12| 149.99|\n",
      "|Electronics|  2|Macbook|       5|1299.99|  5|           LG TV|      10| 699.99|\n",
      "|Electronics|  2|Macbook|       5|1299.99|  4|      Samsung TV|       8| 799.99|\n",
      "|Electronics|  2|Macbook|       5|1299.99|  3|            iPad|      15| 499.99|\n",
      "|Electronics|  2|Macbook|       5|1299.99|  2|         Macbook|       5|1299.99|\n",
      "|Electronics|  2|Macbook|       5|1299.99|  1|          iPhone|      10| 899.99|\n",
      "|Electronics|  3|   iPad|      15| 499.99| 27|         Printer|       8| 129.99|\n",
      "|Electronics|  3|   iPad|      15| 499.99| 26|          Camera|      10| 599.99|\n",
      "+-----------+---+-------+--------+-------+---+----------------+--------+-------+\n",
      "only showing top 20 rows\n",
      "\n"
     ]
    }
   ],
   "source": [
    "# Join with another DataFrame. Create this new DF by filtering the original DF\n",
    "df2 = df.filter(df['price'] > 100)\n",
    "\n",
    "# Join the two DataFrames\n",
    "df.join(df2, on='category', how='inner').show()\n"
   ]
  },
  {
   "cell_type": "markdown",
   "metadata": {},
   "source": [
    "## WithColumn: Add new calculated columns"
   ]
  },
  {
   "cell_type": "code",
   "execution_count": 13,
   "metadata": {},
   "outputs": [
    {
     "name": "stdout",
     "output_type": "stream",
     "text": [
      "+---+----------------+-----------+--------+-------+------------------+\n",
      "| id|            name|   category|quantity|  price|   price_after_tax|\n",
      "+---+----------------+-----------+--------+-------+------------------+\n",
      "|  1|          iPhone|Electronics|      10| 899.99| 989.9890000000001|\n",
      "|  2|         Macbook|Electronics|       5|1299.99|          1429.989|\n",
      "|  3|            iPad|Electronics|      15| 499.99|           549.989|\n",
      "|  4|      Samsung TV|Electronics|       8| 799.99|           879.989|\n",
      "|  5|           LG TV|Electronics|      10| 699.99|           769.989|\n",
      "|  6|      Nike Shoes|   Clothing|      30|  99.99|           109.989|\n",
      "|  7|    Adidas Shoes|   Clothing|      25|  89.99|            98.989|\n",
      "|  8| Sony Headphones|Electronics|      12| 149.99|164.98900000000003|\n",
      "|  9|Beats Headphones|Electronics|      20| 199.99|219.98900000000003|\n",
      "| 10|    Dining Table|  Furniture|      10| 249.99|274.98900000000003|\n",
      "| 11|      Study Desk|  Furniture|       8| 149.99|164.98900000000003|\n",
      "| 12|          Apples|       Food|     100|    0.5|              0.55|\n",
      "| 13|         Bananas|       Food|     150|   0.25|             0.275|\n",
      "| 14|         Oranges|       Food|     120|   0.75|0.8250000000000001|\n",
      "| 15|  Chicken Breast|       Food|      50|   3.99|             4.389|\n",
      "| 16|   Salmon Fillet|       Food|      30|   5.99|             6.589|\n",
      "| 17|  Leather Jacket|   Clothing|      15| 199.99|219.98900000000003|\n",
      "| 18|     Winter Coat|   Clothing|      10| 149.99|164.98900000000003|\n",
      "| 19|        Yoga Mat|     Sports|      20|  19.99|            21.989|\n",
      "| 20|    Dumbbell Set|     Sports|      15|  49.99|54.989000000000004|\n",
      "+---+----------------+-----------+--------+-------+------------------+\n",
      "only showing top 20 rows\n",
      "\n"
     ]
    }
   ],
   "source": [
    "# Add a new calculated column\n",
    "df.withColumn('price_after_tax', df['price'] * 1.1).show()"
   ]
  }
 ],
 "metadata": {
  "kernelspec": {
   "display_name": "pyspark-env",
   "language": "python",
   "name": "python3"
  },
  "language_info": {
   "codemirror_mode": {
    "name": "ipython",
    "version": 3
   },
   "file_extension": ".py",
   "mimetype": "text/x-python",
   "name": "python",
   "nbconvert_exporter": "python",
   "pygments_lexer": "ipython3",
   "version": "3.12.4"
  }
 },
 "nbformat": 4,
 "nbformat_minor": 2
}
