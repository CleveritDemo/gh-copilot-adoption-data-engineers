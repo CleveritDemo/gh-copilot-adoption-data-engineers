{
 "cells": [
  {
   "cell_type": "markdown",
   "metadata": {},
   "source": [
    "# PySpark Environment"
   ]
  },
  {
   "cell_type": "code",
   "execution_count": null,
   "metadata": {},
   "outputs": [],
   "source": [
    "# Set the pyspark environment\n",
    "# Use the conda environment in this path: /Users/rmontecino/anaconda3/envs/pyspark-env\n",
    "import os\n",
    "os.environ['SPARK_HOME'] = '/Users/rmontecino/anaconda3/envs/pyspark-env/lib/python3.12/site-packages/pyspark'\n",
    "os.environ['PYSPARK_DRIVER_PYTHON'] = 'jupyter'\n",
    "os.environ['PYSPARK_DRIVER_PYTHON_OPTS'] = 'notebook'\n",
    "os.environ['PYSPARK_PYTHON'] = 'python3'"
   ]
  },
  {
   "cell_type": "code",
   "execution_count": null,
   "metadata": {},
   "outputs": [],
   "source": [
    "# Import PySpark and initialize SparkSession\n",
    "from pyspark.sql import SparkSession"
   ]
  },
  {
   "cell_type": "code",
   "execution_count": null,
   "metadata": {},
   "outputs": [],
   "source": [
    "# Create a SparkSession\n",
    "spark = SparkSession.builder.appName('SparkSQL').getOrCreate()"
   ]
  },
  {
   "cell_type": "markdown",
   "metadata": {},
   "source": [
    "# Load Data into a DataFrame"
   ]
  },
  {
   "cell_type": "code",
   "execution_count": null,
   "metadata": {},
   "outputs": [],
   "source": [
    "# Load the synthetic data into a DataFrame\n",
    "data_file = '../data/persons.csv'\n",
    "persons_df = spark.read.csv(data_file, header=True, inferSchema=True)\n",
    "\n",
    "# Show the schema of the DataFrame\n",
    "persons_df.printSchema()\n",
    "\n",
    "# Show the first 5 rows of the DataFrame\n",
    "persons_df.show(5)"
   ]
  },
  {
   "cell_type": "markdown",
   "metadata": {},
   "source": [
    "# Register the DataFrame as a Temporary Table"
   ]
  },
  {
   "cell_type": "code",
   "execution_count": null,
   "metadata": {},
   "outputs": [],
   "source": [
    "# Register the DataFrame as a Temporary Table\n",
    "persons_df.createOrReplaceTempView('persons')"
   ]
  },
  {
   "cell_type": "markdown",
   "metadata": {},
   "source": [
    "# Perform SQL-like Queries"
   ]
  },
  {
   "cell_type": "code",
   "execution_count": null,
   "metadata": {},
   "outputs": [],
   "source": [
    "# Select all rows where age is greater than 25\n",
    "query = 'SELECT * FROM persons WHERE age > 25'\n",
    "persons_df_greater_than_25 = spark.sql(query)\n",
    "persons_df_greater_than_25.show()\n",
    "\n",
    "# Compute the average salary of persons\n",
    "query = 'SELECT AVG(salary) AS avg_salary FROM persons'\n",
    "avg_salary = spark.sql(query)\n",
    "avg_salary.show()"
   ]
  },
  {
   "cell_type": "markdown",
   "metadata": {},
   "source": [
    "# Managing temporary views"
   ]
  },
  {
   "cell_type": "code",
   "execution_count": null,
   "metadata": {},
   "outputs": [],
   "source": [
    "# Check if a temporary view exists\n",
    "if spark.catalog._jcatalog.tableExists('persons'):\n",
    "    print('The temporary view persons exists')\n",
    "\n",
    "# Drop the temporary view\n",
    "spark.catalog.dropTempView('persons')\n",
    "\n",
    "# Check if a temporary view exists\n",
    "if spark.catalog._jcatalog.tableExists('persons'):\n",
    "    print('The temporary view persons exists')"
   ]
  },
  {
   "cell_type": "markdown",
   "metadata": {},
   "source": [
    "# Sub Queries"
   ]
  },
  {
   "cell_type": "code",
   "execution_count": null,
   "metadata": {},
   "outputs": [],
   "source": [
    "# Create two DataFrames\n",
    "# The first DataFrame contains employee data with columns: id, name\n",
    "# The second DataFrame contains salary data with columns: id, salary, department\n",
    "data1 = [(1, 'John'), (2, 'Jane'), (3, 'Alice')]\n",
    "data2 = [(1, 1000, 'HR'), (2, 1500, 'Engineering'), (3, 1200, 'Marketing')]\n",
    "columns1 = ['id', 'name']\n",
    "columns2 = ['id', 'salary', 'department']\n",
    "df1 = spark.createDataFrame(data1, columns1)\n",
    "df2 = spark.createDataFrame(data2, columns2)\n",
    "\n",
    "# Show the first DataFrame\n",
    "df1.show()\n",
    "\n",
    "# Show the second DataFrame\n",
    "df2.show()"
   ]
  },
  {
   "cell_type": "code",
   "execution_count": null,
   "metadata": {},
   "outputs": [],
   "source": [
    "# Register as temporary views\n",
    "df1.createOrReplaceTempView('employees')\n",
    "df2.createOrReplaceTempView('salaries')"
   ]
  },
  {
   "cell_type": "code",
   "execution_count": null,
   "metadata": {},
   "outputs": [],
   "source": [
    "# Subquery to find employees with salaries above average\n",
    "query = '''\n",
    "SELECT e.name, s.salary\n",
    "FROM employees e\n",
    "JOIN salaries s\n",
    "ON e.id = s.id\n",
    "WHERE s.salary > (SELECT AVG(salary) FROM salaries)\n",
    "'''\n",
    "result = spark.sql(query)\n",
    "result.show()"
   ]
  }
 ],
 "metadata": {
  "kernelspec": {
   "display_name": "pyspark-env",
   "language": "python",
   "name": "python3"
  },
  "language_info": {
   "codemirror_mode": {
    "name": "ipython",
    "version": 3
   },
   "file_extension": ".py",
   "mimetype": "text/x-python",
   "name": "python",
   "nbconvert_exporter": "python",
   "pygments_lexer": "ipython3",
   "version": "3.12.4"
  }
 },
 "nbformat": 4,
 "nbformat_minor": 2
}
